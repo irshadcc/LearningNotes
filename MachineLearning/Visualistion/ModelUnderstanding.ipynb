{
 "cells": [
  {
   "cell_type": "code",
   "execution_count": 1,
   "id": "9e54e8d3-4b4e-4df9-a825-9c19ff73a37a",
   "metadata": {},
   "outputs": [],
   "source": [
    "import torch\n",
    "import torch.nn as nn\n",
    "import torch.nn.functional as F\n",
    "import numpy as np"
   ]
  },
  {
   "cell_type": "code",
   "execution_count": 3,
   "id": "c389a823-5a86-4072-8960-8a086a90d999",
   "metadata": {},
   "outputs": [],
   "source": [
    "# x_data = torch.rand((128, 24))\n",
    "# y_data = torch.randint(0, 2, (128, 1)).to(torch.float)\n",
    "\n",
    "class LogisticRegression(torch.nn.Module):\n",
    "\n",
    "    def __init__(self):\n",
    "        super().__init__()\n",
    "        self.fc_y1 = nn.Linear(24, 48)\n",
    "        self.fc_y2 = nn.Linear(48 , 1)\n",
    "\n",
    "    def forward(self, x):\n",
    "        y1 = self.fc_y1(x)\n",
    "        h1 = F.sigmoid(y1)\n",
    "        \n",
    "        y2 = self.fc_y2(h1)\n",
    "        h2 = F.sigmoid(y2)\n",
    "\n",
    "        return h2\n",
    "\n",
    "# model = LogisticRegression()\n",
    "# bce_loss = nn.BCELoss()\n",
    "# y_pred = model(x_data)\n",
    "# loss_t = bce_loss(y_pred, y_data)"
   ]
  },
  {
   "cell_type": "code",
   "execution_count": 3,
   "id": "26e131a9",
   "metadata": {},
   "outputs": [
    {
     "name": "stdout",
     "output_type": "stream",
     "text": [
      "tensor(3.3002, grad_fn=<SumBackward0>)\n",
      "X grad = None\n",
      "W grad = tensor([[0., 1., 0., 1.],\n",
      "        [0., 1., 0., 1.],\n",
      "        [0., 1., 0., 1.]])\n"
     ]
    }
   ],
   "source": [
    "## Embedding W, (v x d) = (3 x 4)\n",
    "## v = Vocabulary  \n",
    "## d = Embedding vector dimension\n",
    "w = torch.rand((3,4), requires_grad=True, dtype=torch.float32)\n",
    "\n",
    "x = torch.tensor([[0, 1, 0, 1]], requires_grad=False, dtype=torch.float32)\n",
    "\n",
    "xt = x.T\n",
    "e = w.mm(xt)\n",
    "s = torch.sum(e)\n",
    "s.backward()\n",
    "print(s)\n",
    "print(\"X grad = \" + str(x.grad))\n",
    "print(\"W grad = \\n\" + str(w.grad))"
   ]
  },
  {
   "cell_type": "code",
   "execution_count": null,
   "id": "92b5b51d",
   "metadata": {},
   "outputs": [],
   "source": []
  },
  {
   "cell_type": "code",
   "execution_count": null,
   "id": "8ba9a408",
   "metadata": {},
   "outputs": [],
   "source": []
  }
 ],
 "metadata": {
  "kernelspec": {
   "display_name": "Python 3 (ipykernel)",
   "language": "python",
   "name": "python3"
  },
  "language_info": {
   "codemirror_mode": {
    "name": "ipython",
    "version": 3
   },
   "file_extension": ".py",
   "mimetype": "text/x-python",
   "name": "python",
   "nbconvert_exporter": "python",
   "pygments_lexer": "ipython3",
   "version": "3.11.7"
  }
 },
 "nbformat": 4,
 "nbformat_minor": 5
}
